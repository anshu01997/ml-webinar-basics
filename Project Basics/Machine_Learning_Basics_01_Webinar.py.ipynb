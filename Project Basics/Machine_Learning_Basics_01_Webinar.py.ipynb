{
 "cells": [
  {
   "cell_type": "markdown",
   "metadata": {},
   "source": [
    "![](images/ml_webinar_1.jpg)"
   ]
  },
  {
   "cell_type": "markdown",
   "metadata": {},
   "source": [
    "# About Me\n",
    "<br>\n",
    "\n",
    "### Prateek Narang\n",
    "- Computer Science Graduate from _Delhi Technological University(DTU)_\n",
    "- Coder with passion for teaching\n",
    "- Presently **Founding Member at Coding Blocks**\n",
    "- Areas of Interest - Algorithms, Competitive Coding, Machine Learning and Game Development.\n",
    "- Worked with **SanDisk** in the past\n",
    "- Won Couple of Hackathons & Competitions like Code For India, Smart India Hackathon etc\n",
    "- Been to ACM-ICPC Chennai Regionals.\n",
    "- Interactive CV - _www.prateeknarang.com_ is hugely popular among students, it has been viewed in over 120 countries\n",
    "\n"
   ]
  },
  {
   "cell_type": "markdown",
   "metadata": {},
   "source": [
    "# Machine Learning LIVE Webinar\n",
    "\n",
    "## Today's topics\n",
    "\n",
    "- Intro to Machine Learning\n",
    "    - What is Machine Learning/ Machine Intelligence ?\n",
    "    - Few interesting Applications of Machine Learning\n",
    "    - Supervised,Unsupervised Learning and Reinforcement Learning\n",
    "    <br><br>\n",
    "- Hands on Session\n",
    "    - Some Python Basics\n",
    "    - Working with Numpy & Pandas\n",
    "    - Steps involved in Machine Learning\n",
    "    - Building your first Machine Learning Algorithm\n",
    "    - K-Nearest Neighbours\n",
    "    - Working with Datasets(MNIST Dataset)\n",
    "    - LIVE Project "
   ]
  },
  {
   "cell_type": "markdown",
   "metadata": {},
   "source": [
    "# Machine Intelligence \n",
    "Machine learning is a subfield of artificial intelligence (AI) concerned with algorithms that allow computers to learn. What this means, in most cases, is that an algorithm is given a set of data and infers information about the properties of the data—and that information allows it to make predictions about other data that it might see in the future. In simple terms, it gives  **preditive power** to computers !\n",
    "\n",
    "# Machine Learning vs Artificial Intelligence\n",
    "- Aritificial Intelligence is a system which interacts with surroundings\n",
    "- AI systems have sensors to collect data from surroundings\n",
    "- Machine Learning can be considered as the **\"brain of AI\"** which process the input data\n",
    "- ML algorithm frames an appropriate answer, and which is sent back back to the surroundings.\n",
    "\n",
    "### Example of Self-Driving Car\n",
    "- Input data - Set of images caputured by the sensor\n",
    "\n",
    "- Processing by Machine Learning Algorithm - A model trained on images processes it, looks for any obstacles \n",
    "\n",
    "- Output is a required 'float' value as the output, giving the required acceleration of the car.\n",
    "\n",
    "![](images/car.png)\n",
    "\n",
    "\n",
    "\n",
    "# Why the Hype ?\n",
    " - Every minute up to 300 hours of video are uploaded to YouTube.\n",
    "\n",
    " - Average of 31.25 million messages and view 2.77 million videos every minute on Facebook.\n",
    " -  More data has been created in the past two years than in the entire previous history of the human race.\n",
    " - At the moment less than 0.5% of all data is ever analyzed and used, just imagine the potential here\n",
    "    \n",
    "# Machine Learning In Industry\n",
    "### Google Page Ranking\n",
    "### Google - Natural Language Search Queries\n",
    "### Netflix Suggestions.\n",
    "### Tinder, for you to “chill”\n",
    "### Tesla Self Driving Cars \n",
    "### Political Campaigns (Sentiments of People)\n",
    "### Spam Filtering\n",
    "### Google AdSense ( Ads based upon your history)\n",
    "### Bio-informatics ( Predicting Cancers, IBM Watson )\n",
    "### Apple Siri - Speech Recognition and Talking\n",
    "### Chatbots like Tay, Ruuh\n",
    "\n",
    "# Machine Learning at Home\n",
    "\n",
    "### Google “Allo”\n",
    "### Snapchat Filters\n",
    "### Google Home and Amazon “Alexa”\n",
    "### Facebook Photo Tagging\n",
    "### PRISMA\n",
    "### Recommendations on Amazon, Flipkart\n",
    "### and many more...\n"
   ]
  },
  {
   "cell_type": "markdown",
   "metadata": {},
   "source": [
    "# Few Interesting Applications \n",
    "Some of these are covered as class Projects in Coding Blocks - Perceptron Machine Learning Course.\n",
    "\n",
    "# Neural Art - PRISMA\n",
    "![\"HILL\"](images/neural_art.jpg)\n",
    "\n",
    "<br><br><br><br>\n",
    "\n",
    "# Conversational Engine(Microsoft Ruuh)\n",
    "<br> <br>\n",
    "![](images/ruh_1.jpg)\n",
    "![](images/ruuh.png)\n",
    "\n",
    "<br><br><br><br>\n",
    "\n",
    "# Tay Tweets(Tweet Bot - Microsoft)\n",
    "![](images/tay.jpg)\n",
    "\n",
    "\n",
    "<br><br><br><br>\n",
    "\n",
    "# Playing with Words and Images (Vector Arithmetic)\n",
    "![](images/words_and_image.png)\n",
    "\n",
    "\n",
    "<br><br><br><br>\n",
    "\n",
    "# Colorizing the World using Neural Nets\n",
    "![](images/color_world.jpg)\n",
    "![](images/color2.png)\n",
    "\n",
    "\n",
    "<br><br><br><br>\n",
    "\n",
    "# Story Generation\n",
    "![](images/sumo.jpg)\n",
    "![](images/sumo2.jpg)\n",
    "\n",
    "<br><br><br><br>\n",
    "\n",
    "\n",
    "# Story of Alpha-Go Vs Lee Sedol\n",
    "![](images/alpha_go.jpg)\n",
    "\n",
    "<br><br><br><br>\n",
    "\n",
    "# AI in Games\n",
    "![](images/gaming.jpg)\n",
    "\n",
    "<br><br><br><br>\n",
    "\n",
    "# And many more ..."
   ]
  },
  {
   "cell_type": "markdown",
   "metadata": {},
   "source": [
    "# Different Machine Learning Approaches\n",
    "## Supervised Learning\n",
    "- Algorithms to get a set of *Labeled Data* called Training Data\n",
    "- Predictions are made on a set of *Unlabled Data* called Testing Data\n",
    "- Example - Spam Filtering in emails, Obstacle Detection in Images, Classifying Fruits\n",
    "\n",
    "- Algorithm is trained using a model, which is based on various parameters called features.\n",
    "\n",
    "| Color(X)      | Sweetness(Y)    | Label  |\n",
    "| ------------- |-------------:| -----:|\n",
    "| 0.80       | 0.90          |   Apple |\n",
    "| 0.80       | 0.84          |   Apple |\n",
    "| 0.10       | 0.27          |   Lemon |\n",
    "| 0.30       | 0.47          |   Lemon |\n",
    "| 0.83       | 0.83          |   Apple |\n",
    "| 0.60       | 0.97          |   Apple |\n",
    "\n",
    "## Unsupervised Learning\n",
    "- Algorithm don't get set of labeled data\n",
    "- Algorithm automatically extracts hidden patterns from the data.\n",
    "- Mostly used to classify data into various sets, similar data is clubbed into a single set called a cluster. \n",
    "- Example: Clustering Algorithms to classify a set of related data into a single cluster\n",
    "<br><br>\n",
    "\n",
    "| Color(X)      | Sweetness(Y)    \n",
    "| ------------- |-------------:|\n",
    "| 0.80       | 0.87          |  \n",
    "| 0.80       | 0.83          |  \n",
    "| 0.10       | 0.27          |  \n",
    "| 0.30       | 0.47          |  \n",
    "| 0.83       | 0.82          |  \n",
    "| 0.60       | 0.97          |  \n",
    "## Reinforcement Learning\n",
    "- It has a feedback element to improve its performance\n",
    "- Based upon the idea of \"reward\", algorithm will move in a direction to achieve maximum reward.\n",
    "- Good Application : Teaching Machine to play games like Tic-Tac-Toe,Chess etc\n",
    "- Algorithms uses moves tried in the past which led to successful results\n",
    "\n",
    "# Popular Techniques\n",
    "- K-Means\n",
    "- K-Nearest Neighbours\n",
    "- Regression\n",
    "- Decision Trees\n",
    "- Naive Bayes\n",
    "- Neural Networks\n",
    "- Support Vector Machines\n",
    "- Neural Nets\n",
    "- Deep Learning\n",
    "- Support Vector Machines(SVM)\n",
    "\n",
    "# Open Source Packages\n",
    "- Scikit - Learn\n",
    "- TensorFlow\n",
    "- Pytorch\n",
    "\n",
    "\n",
    "\n",
    "\n",
    "\n",
    "\n"
   ]
  },
  {
   "cell_type": "markdown",
   "metadata": {},
   "source": [
    "# Developer Checklist\n",
    "- Basic Python 2.7+ ,Pip, Jupyter-Notebook installed\n",
    "- Numpy - Mathematic Operations\n",
    "- Pandas - Working with CSV's(Excel Sheets), Data reading and writing\n",
    "- Matplotlib - Plotting Graphs\n",
    "# Python Basics\n",
    "- Lists\n",
    "- Dictionaries\n",
    "- Sorting\n",
    "- Lambda Function\n",
    "- Range Function\n"
   ]
  },
  {
   "cell_type": "code",
   "execution_count": 14,
   "metadata": {
    "collapsed": false
   },
   "outputs": [
    {
     "name": "stdout",
     "output_type": "stream",
     "text": [
      "[1, 2, 4, 5, 6, 'Hello']\n",
      "[2]\n",
      "[4, 5, 6, 'Hello']\n",
      "[1, 2, 4, 5]\n",
      "[1, 2, 4, 5, 6, 'Hello']\n",
      "<type 'dict'>\n",
      "100\n",
      "['mango', 'apple', 'banana']\n",
      "[100, 120, [10, 20, 30]]\n",
      "1\n",
      "2\n",
      "3\n",
      "4\n",
      "5\n",
      "6\n",
      "7\n",
      "8\n",
      "9\n",
      "10\n",
      "yes\n"
     ]
    }
   ],
   "source": [
    "# Working with Lists\n",
    "a = [ 1,2,4,5,6,\"Hello\"]\n",
    "\n",
    "print a\n",
    "\n",
    "# Slicing in Lists\n",
    "print a[1:2]\n",
    "print a[2:]\n",
    "print a[:4]\n",
    "print a[:]\n",
    "\n",
    "# Dictionaries in Python ( Hashmaps in C++, JSON in javascript)\n",
    "prices = {\n",
    "    \"mango\":100,\n",
    "    \"apple\":120,\n",
    "    \"banana\":[10,20,30]\n",
    "}\n",
    "\n",
    "print type(prices)\n",
    "\n",
    "print prices[\"mango\"]\n",
    "\n",
    "#Iterate over all the keys\n",
    "print prices.keys()\n",
    "print prices.values()\n",
    "\n",
    "# Loops\n",
    "i = 1\n",
    "while i<=10:\n",
    "    print i\n",
    "    i += 1\n",
    "    \n",
    "# Range Fn (s,e,jump)\n",
    "range(1,10,2)\n",
    "\n",
    "x = \"Python\"\n",
    "if x==\"Python\":\n",
    "    print \"yes\"\n",
    "else:\n",
    "    print \"no\"\n"
   ]
  },
  {
   "cell_type": "code",
   "execution_count": 17,
   "metadata": {
    "collapsed": false
   },
   "outputs": [
    {
     "name": "stdout",
     "output_type": "stream",
     "text": [
      "[5, 4, 3, 2, 1]\n"
     ]
    }
   ],
   "source": [
    "# Sorting in Lists\n",
    "a = [5,4,3,1,2]\n",
    "\n",
    "a = sorted(a,reverse=True)\n",
    "print a"
   ]
  },
  {
   "cell_type": "markdown",
   "metadata": {},
   "source": [
    "# Math in Python | Packages & Imports\n"
   ]
  },
  {
   "cell_type": "code",
   "execution_count": 20,
   "metadata": {
    "collapsed": false
   },
   "outputs": [
    {
     "name": "stdout",
     "output_type": "stream",
     "text": [
      "2.0\n",
      "1.41421356237\n"
     ]
    }
   ],
   "source": [
    "import math\n",
    "\n",
    "print math.log10(100)\n",
    "print math.sqrt(2)"
   ]
  },
  {
   "cell_type": "code",
   "execution_count": 24,
   "metadata": {
    "collapsed": false
   },
   "outputs": [
    {
     "data": {
      "text/plain": [
       "10.0"
      ]
     },
     "execution_count": 24,
     "metadata": {},
     "output_type": "execute_result"
    }
   ],
   "source": [
    "from math import sqrt as sq\n",
    "\n",
    "sq(100)"
   ]
  },
  {
   "cell_type": "markdown",
   "metadata": {},
   "source": [
    "# Scientific Computation "
   ]
  },
  {
   "cell_type": "code",
   "execution_count": 28,
   "metadata": {
    "collapsed": true
   },
   "outputs": [],
   "source": [
    "import numpy as np\n",
    "from matplotlib import pyplot as plt\n",
    "%matplotlib inline"
   ]
  },
  {
   "cell_type": "code",
   "execution_count": 29,
   "metadata": {
    "collapsed": false
   },
   "outputs": [
    {
     "name": "stdout",
     "output_type": "stream",
     "text": [
      "<type 'numpy.ndarray'>\n"
     ]
    }
   ],
   "source": [
    "# Numpy which is library acutally written in C and Python Interface\n",
    "# Arrays in Numpy\n",
    "\n",
    "arr = np.array([1,2,3,4])\n",
    "# it is of fixed size, it is not dynanimc \n",
    "print type(arr)"
   ]
  },
  {
   "cell_type": "code",
   "execution_count": 32,
   "metadata": {
    "collapsed": false
   },
   "outputs": [
    {
     "name": "stdout",
     "output_type": "stream",
     "text": [
      "[[ 0.  0.  0.  0.]\n",
      " [ 0.  0.  0.  0.]\n",
      " [ 0.  0.  0.  0.]\n",
      " [ 0.  0.  0.  0.]]\n",
      "[[ 2.  0.  0.  0.]\n",
      " [ 3.  3.  3.  3.]\n",
      " [ 2.  0.  0.  0.]\n",
      " [ 2.  0.  0.  0.]]\n"
     ]
    }
   ],
   "source": [
    "# 2-D arrays in Numpy\n",
    "\n",
    "a = np.zeros((4,4))\n",
    "print a\n",
    "\n",
    "a[ : ,0] = 2\n",
    "a[1, :] = 3\n",
    "print a"
   ]
  },
  {
   "cell_type": "code",
   "execution_count": 40,
   "metadata": {
    "collapsed": false,
    "scrolled": true
   },
   "outputs": [
    {
     "name": "stdout",
     "output_type": "stream",
     "text": [
      "(array([1, 2, 3, 4, 5, 7]), array([2, 2, 2, 1, 1, 3]))\n",
      "7\n"
     ]
    }
   ],
   "source": [
    "# Unique and Argmax Functions\n",
    "arr = np.asarray([1,2,3,5,3,7,4,2,1,7,7])\n",
    "\n",
    "b = np.unique(arr,return_counts=True)\n",
    "print b\n",
    "index = b[1].argmax()\n",
    "print b[0][index]"
   ]
  },
  {
   "cell_type": "markdown",
   "metadata": {},
   "source": [
    "# Plotting Graphs using Matplot Lib"
   ]
  },
  {
   "cell_type": "code",
   "execution_count": 46,
   "metadata": {
    "collapsed": false
   },
   "outputs": [
    {
     "data": {
      "image/png": "[encoded data removed]",
      "text/plain": [
       "<matplotlib.figure.Figure at 0x6ac1350>"
      ]
     },
     "metadata": {},
     "output_type": "display_data"
    },
    {
     "data": {
      "image/png": "[encoded data removed]",
      "text/plain": [
       "<matplotlib.figure.Figure at 0x6afad90>"
      ]
     },
     "metadata": {},
     "output_type": "display_data"
    }
   ],
   "source": [
    "from jupyterthemes import jtplot\n",
    "jtplot.style()\n",
    "\n",
    "a = np.asarray(range(100))\n",
    "\n",
    "plt.figure(0)\n",
    "plt.plot(a)\n",
    "\n",
    "plt.figure(1)\n",
    "plt.plot(a**2,color='green')\n",
    "plt.plot(a**3,color='red')\n",
    "\n",
    "plt.show()"
   ]
  },
  {
   "cell_type": "code",
   "execution_count": 54,
   "metadata": {
    "collapsed": false
   },
   "outputs": [
    {
     "name": "stdout",
     "output_type": "stream",
     "text": [
      "(100, 2)\n",
      "[[ 0.00291436  0.01448286]\n",
      " [ 0.51031075  0.65767026]\n",
      " [ 0.97074722  0.83606565]\n",
      " [ 0.86743705  0.01732897]\n",
      " [ 0.88593955  0.8020919 ]\n",
      " [ 0.28751527  0.7223667 ]\n",
      " [ 0.02263074  0.3382036 ]\n",
      " [ 0.69338037  0.22768306]\n",
      " [ 0.77667507  0.82879251]\n",
      " [ 0.61327601  0.28087191]\n",
      " [ 0.31060801  0.69091621]\n",
      " [ 0.28837317  0.24580994]\n",
      " [ 0.06039161  0.02097023]\n",
      " [ 0.7737081   0.0862868 ]\n",
      " [ 0.21237252  0.13823183]\n",
      " [ 0.48561855  0.57743034]\n",
      " [ 0.86938209  0.97227449]\n",
      " [ 0.06277177  0.63193716]\n",
      " [ 0.34021614  0.35706364]\n",
      " [ 0.39370643  0.5804014 ]\n",
      " [ 0.41925511  0.04778853]\n",
      " [ 0.50533611  0.32895564]\n",
      " [ 0.80257028  0.10471664]\n",
      " [ 0.71289916  0.89630801]\n",
      " [ 0.45396971  0.51404844]\n",
      " [ 0.20334233  0.99497241]\n",
      " [ 0.99839354  0.21437453]\n",
      " [ 0.55529647  0.22472561]\n",
      " [ 0.9728573   0.60438948]\n",
      " [ 0.32445404  0.33398996]\n",
      " [ 0.55213098  0.31026391]\n",
      " [ 0.35979964  0.44872302]\n",
      " [ 0.05225356  0.58651425]\n",
      " [ 0.6458056   0.60890034]\n",
      " [ 0.79562724  0.03879441]\n",
      " [ 0.6959736   0.38233052]\n",
      " [ 0.7526301   0.21503284]\n",
      " [ 0.34190764  0.31116281]\n",
      " [ 0.75554644  0.46958625]\n",
      " [ 0.93776575  0.62445155]\n",
      " [ 0.51429204  0.64805179]\n",
      " [ 0.37936658  0.26266611]\n",
      " [ 0.08913006  0.61540506]\n",
      " [ 0.58724715  0.06253665]\n",
      " [ 0.85576013  0.16285239]\n",
      " [ 0.83506768  0.33033296]\n",
      " [ 0.24312511  0.71298804]\n",
      " [ 0.41878801  0.06937431]\n",
      " [ 0.07202771  0.48041518]\n",
      " [ 0.14903979  0.60142633]\n",
      " [ 0.97025292  0.94248153]\n",
      " [ 0.93120412  0.43516918]\n",
      " [ 0.57869014  0.66465101]\n",
      " [ 0.23430332  0.26433057]\n",
      " [ 0.07642415  0.43258007]\n",
      " [ 0.01275717  0.04839758]\n",
      " [ 0.74708051  0.01431588]\n",
      " [ 0.76829324  0.0143131 ]\n",
      " [ 0.07333657  0.15874178]\n",
      " [ 0.29564716  0.46516782]\n",
      " [ 0.12790292  0.05567735]\n",
      " [ 0.7126499   0.61885085]\n",
      " [ 0.25167061  0.86270017]\n",
      " [ 0.99573942  0.79714859]\n",
      " [ 0.01198528  0.23383981]\n",
      " [ 0.44065774  0.49272317]\n",
      " [ 0.15193365  0.77113256]\n",
      " [ 0.78719606  0.86875411]\n",
      " [ 0.23941396  0.25477639]\n",
      " [ 0.38347683  0.47451819]\n",
      " [ 0.67296508  0.71186838]\n",
      " [ 0.86829012  0.52463931]\n",
      " [ 0.70273571  0.55131349]\n",
      " [ 0.83767118  0.56091251]\n",
      " [ 0.79026539  0.5755953 ]\n",
      " [ 0.80825375  0.24356713]\n",
      " [ 0.42424922  0.72464852]\n",
      " [ 0.58704666  0.2260189 ]\n",
      " [ 0.59772621  0.54736828]\n",
      " [ 0.33457846  0.82713099]\n",
      " [ 0.98668045  0.81246355]\n",
      " [ 0.23846308  0.22472451]\n",
      " [ 0.00846766  0.50492411]\n",
      " [ 0.17579599  0.61034498]\n",
      " [ 0.63107979  0.63797212]\n",
      " [ 0.77107512  0.30251411]\n",
      " [ 0.87480609  0.84771177]\n",
      " [ 0.97447     0.33918272]\n",
      " [ 0.48713053  0.86355211]\n",
      " [ 0.59996644  0.96567419]\n",
      " [ 0.16768305  0.27008325]\n",
      " [ 0.00260076  0.15940528]\n",
      " [ 0.61041731  0.53609626]\n",
      " [ 0.54895212  0.65345545]\n",
      " [ 0.43086309  0.60843941]\n",
      " [ 0.93793111  0.43365899]\n",
      " [ 0.72604315  0.16615365]\n",
      " [ 0.06820395  0.44045418]\n",
      " [ 0.50274979  0.51384979]\n",
      " [ 0.96437541  0.14919605]]\n"
     ]
    },
    {
     "data": {
      "text/plain": [
       "<function matplotlib.pyplot.show>"
      ]
     },
     "execution_count": 54,
     "metadata": {},
     "output_type": "execute_result"
    },
    {
     "data": {
      "image/png": "[encoded data removed]",
      "text/plain": [
       "<matplotlib.figure.Figure at 0x6fe8030>"
      ]
     },
     "metadata": {},
     "output_type": "display_data"
    }
   ],
   "source": [
    "# Scatter Plots\n",
    "\n",
    "# Random Values in the Range 0 and 1\n",
    "arr = np.random.random((100,2)) \n",
    "print arr.shape\n",
    "\n",
    "print arr \n",
    "plt.figure(0)\n",
    "# First Paramenter ix X Coordinate, Second Paratmeter is Y\n",
    "plt.scatter(arr[:,0],arr[:,1],color='yellow')\n",
    "plt.show\n",
    "# We are using the Scatter Plot"
   ]
  },
  {
   "cell_type": "markdown",
   "metadata": {},
   "source": [
    "# Probability Distribution \n",
    "## Random Variable\n",
    " Random variable is a variable whose possible values are numerical outcomes of a random experiment.\n",
    " \n",
    " For eg - \n",
    " 1) A random variable could denote number of characters in all the books in the world\n",
    " 2) Length of movie names in all the movies released so far\n",
    " 3) Outcomes of dice throw experiment\n",
    " \n",
    "\n",
    "### Mean and Expectation\n",
    "    u  = E(X)\n",
    "    u is the mean\n",
    "    E(X) is the expected value of X.\n",
    "\n",
    "## Normal/Gaussian Distribution\n",
    "![](images/normal_distribution.svg)\n",
    "Normal distributions are important in statistics and are often used in the natural and social sciences to represent real-valued random variables whose distributions are not known.\n",
    "\n",
    "## Standard Normal Distribution\n",
    "![](images/std_normal.svg)\n",
    "\n",
    "\n",
    "## Multivariate Normal Distribution\n",
    "Example in 2 dimensions-\n",
    "![](images/mvn.svg)\n",
    "![](images/mv.png)\n",
    "\n",
    "\n"
   ]
  },
  {
   "cell_type": "markdown",
   "metadata": {},
   "source": [
    "# KNN Algorithm\n",
    "\n",
    "- The K-nearest-neighbor (KNN) algorithm measures the distance between a query scenario and a set of scenarios in the data set.\n",
    "- KNN falls in the supervised learning family of algorithms. Informally, this means that we are given a labelled dataset consisting of training observations (x,y) and would like to capture the relationship between x and y. \n",
    "- This method used for classification and regression.\n",
    "\n",
    "<br>\n",
    "<br>\n",
    "\n",
    "Training Data\n",
    "<br>\n",
    "\n",
    "| Color(X)      | Sweetness(Y)    | Label  |\n",
    "| ------------- |-------------:| -----:|\n",
    "| 0.80       | 0.83          |   Apple |\n",
    "| 0.80       | 0.85          |   Apple |\n",
    "| 0.10       | 0.27          |   Lemon |\n",
    "| 0.30       | 0.47          |   Lemon |\n",
    "| 0.83       | 0.87          |   Apple |\n",
    "| 0.60       | 0.97          |   Apple |\n",
    "\n",
    "\n",
    "Test Data \n",
    "<br>\n",
    "\n",
    "| Color(X)      | Sweetness(Y)    | Actual Label  | Predicted Label\n",
    "| ------------- |-------------:| -----:|-----:|\n",
    "| 0.91       | 0.75          |   Apple | Apple \n",
    "| 0.11       | 0.25          |   Lemon | Lemon\n",
    "\n",
    "# Code\n"
   ]
  },
  {
   "cell_type": "code",
   "execution_count": 70,
   "metadata": {
    "collapsed": false
   },
   "outputs": [
    {
     "name": "stdout",
     "output_type": "stream",
     "text": [
      "(200, 2)\n",
      "(200, 2)\n"
     ]
    }
   ],
   "source": [
    "\n",
    "mean_01 = np.array([3.0,4.0])\n",
    "\n",
    "#Lemons are sour, avg sweetness will low, they have some low value for color\n",
    "# Red values is higher, Yellow Lower\n",
    "# Sweetness is higher, Sourness Lower\n",
    "mean_01 = np.array([3.0,4.0])\n",
    "\n",
    "#2 X 2 identity matrix\n",
    "cov_01 = np.array([[1.0,-0.5],[-0.5,1.0]])\n",
    "\n",
    "mean_02 = np.array([0.0,0.0])\n",
    "\n",
    "cov_02 = np.array([[1.0,.5],[0.5,0.6]])\n",
    "\n",
    "dist_01 = np.random.multivariate_normal(mean_01,cov_01,200)\n",
    "dist_02 = np.random.multivariate_normal(mean_02,cov_02,200)\n",
    "\n",
    "print dist_01.shape\n",
    "print dist_02.shape\n",
    "# print dist_01"
   ]
  },
  {
   "cell_type": "code",
   "execution_count": 71,
   "metadata": {
    "collapsed": false
   },
   "outputs": [
    {
     "data": {
      "image/png": "[encoded data removed]",
      "text/plain": [
       "<matplotlib.figure.Figure at 0x7ef9af0>"
      ]
     },
     "metadata": {},
     "output_type": "display_data"
    }
   ],
   "source": [
    "# Try to make a scatter plot of these points\n",
    "plt.figure(0)\n",
    "\n",
    "for x in range(dist_01.shape[0]):\n",
    "    plt.scatter(dist_01[x,0],dist_01[x,1],color='red')\n",
    "    plt.scatter(dist_02[x,0],dist_02[x,1],color='yellow')\n",
    "   \n",
    "plt.show()"
   ]
  },
  {
   "cell_type": "code",
   "execution_count": 76,
   "metadata": {
    "collapsed": false
   },
   "outputs": [],
   "source": [
    "# Training Data Preparation\n",
    "\n",
    "# 400 Samples - 200 Apples, 200 for Lemons\n",
    "\n",
    "labels = np.zeros((400,1))\n",
    "labels[200:] = 1.0\n",
    "\n",
    "X_data = np.zeros((400,2))\n",
    "X_data[:200,:] = dist_01\n",
    "X_data[200: ,:] = dist_02\n",
    "\n",
    "# print X_data\n",
    "# print labels"
   ]
  },
  {
   "cell_type": "markdown",
   "metadata": {},
   "source": [
    "# KNN  Algorithm :)"
   ]
  },
  {
   "cell_type": "code",
   "execution_count": 77,
   "metadata": {
    "collapsed": false
   },
   "outputs": [
    {
     "name": "stdout",
     "output_type": "stream",
     "text": [
      "1.41421356237\n"
     ]
    }
   ],
   "source": [
    "#Dist of the query_point to all other points in the space ( O(N)) time for every point + sorting \n",
    "# You can the complexity O(Q.N)\n",
    "\n",
    "#Euclidean Distance \n",
    "def dist(x1,x2):\n",
    "    return np.sqrt(((x1-x2)**2).sum())\n",
    "\n",
    "x1 = np.array([0.0,0.0])\n",
    "x2 = np.array([1.0,1.0])\n",
    "\n",
    "print dist(x1,x2)\n"
   ]
  },
  {
   "cell_type": "code",
   "execution_count": 85,
   "metadata": {
    "collapsed": false
   },
   "outputs": [
    {
     "name": "stdout",
     "output_type": "stream",
     "text": [
      "0.0\n"
     ]
    }
   ],
   "source": [
    "def knn(X_train,query_point,y_train,k=5):\n",
    "    vals = []\n",
    "    \n",
    "    for ix in range(X_train.shape[0]):\n",
    "        v = [ dist(query_point,X_train[ix,:]), y_train[ix]]\n",
    "        vals.append(v)\n",
    "    # vals is a list containing distances and their labels\n",
    "    updated_vals = sorted(vals)\n",
    "    # Lets us pick up top K values\n",
    "    pred_arr = np.asarray(updated_vals[:k])\n",
    "    pred_arr = np.unique(pred_arr[:,1],return_counts = True)\n",
    "    #Largest Occurence \n",
    "    index = pred_arr[1].argmax() #Index of largest freq  \n",
    "    return pred_arr[0][index]\n",
    "\n",
    "q = np.array([0.0,4.0])\n",
    "\n",
    "predicted_label  = knn(X_data,q,labels)\n",
    "print predicted_label\n",
    "\n",
    "## Run a Loop over a testing data(Split the original data into 2 sets - Training, Testing)\n",
    "\n",
    "# FInd predictions for Q Query points\n",
    "\n",
    "# If predicted outcome = actual outcome -> Sucess else Failure\n",
    "\n",
    "# Accuracy =  (Successes)/ (Total no of testing points) * 100"
   ]
  }
 ],
 "metadata": {
  "kernelspec": {
   "display_name": "Python 2",
   "language": "python",
   "name": "python2"
  },
  "language_info": {
   "codemirror_mode": {
    "name": "ipython",
    "version": 2
   },
   "file_extension": ".py",
   "mimetype": "text/x-python",
   "name": "python",
   "nbconvert_exporter": "python",
   "pygments_lexer": "ipython2",
   "version": "2.7.5"
  }
 },
 "nbformat": 4,
 "nbformat_minor": 2
}
